{
  "nbformat": 4,
  "nbformat_minor": 0,
  "metadata": {
    "colab": {
      "name": "Pilas_1310.ipynb",
      "provenance": [],
      "authorship_tag": "ABX9TyPNEFICJwW427RKTamUYb09",
      "include_colab_link": true
    },
    "kernelspec": {
      "name": "python3",
      "display_name": "Python 3"
    },
    "language_info": {
      "name": "python"
    }
  },
  "cells": [
    {
      "cell_type": "markdown",
      "metadata": {
        "id": "view-in-github",
        "colab_type": "text"
      },
      "source": [
        "<a href=\"https://colab.research.google.com/github/RagdeOlvera/Tarea_9/blob/main/Pilas_1310.ipynb\" target=\"_parent\"><img src=\"https://colab.research.google.com/assets/colab-badge.svg\" alt=\"Open In Colab\"/></a>"
      ]
    },
    {
      "cell_type": "code",
      "metadata": {
        "id": "PyOiV996MvbW"
      },
      "source": [
        "class StackADT:\n",
        "    def __init__( self ):\n",
        "        self.__data = list()\n",
        "\n",
        "# regresa true si la pila esta vacia.\n",
        "    def is_empty( self ):\n",
        "        return len( self.__data ) == 0\n",
        "\n",
        "    def get_length( self ):\n",
        "        return len( self.__data )\n",
        "    \n",
        "    def pop( self ):\n",
        "        if self.is_empty():\n",
        "            print(\"Pila vacia. Nada que sacar.\")\n",
        "        else:\n",
        "            return self.__data.pop()\n",
        "\n",
        "    def peek( self ):\n",
        "        if self.is_empty():\n",
        "            print(\"Pila vacia. Nada que sacar.\")\n",
        "        else:\n",
        "            return self.__data[ -1 ]\n",
        "\n",
        "    def push( self , value ):\n",
        "        self.__data.append( value )\n",
        "\n",
        "    def to_string( self ):\n",
        "        for item in self.__data[::-1]:\n",
        "            print(f\"| { item } | \" )\n"
      ],
      "execution_count": 150,
      "outputs": []
    },
    {
      "cell_type": "code",
      "metadata": {
        "colab": {
          "base_uri": "https://localhost:8080/"
        },
        "id": "ih4fpUMSQdWi",
        "outputId": "272cb543-ace0-47b8-e72d-55d8de3f3604"
      },
      "source": [
        "pila = StackADT()\n",
        "print(\"Esta vacia ? = \", pila.is_empty() )\n",
        "print(\"No. elementos: \" , pila.get_length() )\n",
        "pila.push(10)\n",
        "\n",
        "print(\"Esta vacia ? = \", pila.is_empty() )\n",
        "print(\"No. elementos: \" , pila.get_length() )\n",
        "\n",
        "pila.push(20)\n",
        "pila.push(30)\n",
        "pila.push(40)\n",
        "\n",
        "pila.to_string()\n",
        "print(pila.pop())\n",
        "pila.to_string()\n",
        "print(pila.peek())\n",
        "pila.to_string()"
      ],
      "execution_count": 151,
      "outputs": [
        {
          "output_type": "stream",
          "name": "stdout",
          "text": [
            "Esta vacia ? =  True\n",
            "No. elementos:  0\n",
            "Esta vacia ? =  False\n",
            "No. elementos:  1\n",
            "| 40 | \n",
            "| 30 | \n",
            "| 20 | \n",
            "| 10 | \n",
            "40\n",
            "| 30 | \n",
            "| 20 | \n",
            "| 10 | \n",
            "30\n",
            "| 30 | \n",
            "| 20 | \n",
            "| 10 | \n"
          ]
        }
      ]
    },
    {
      "cell_type": "markdown",
      "metadata": {
        "id": "kDB2uUNByhoW"
      },
      "source": [
        "#Aplicacion de pilas: Blanceo de llaves en programacion.\n"
      ]
    },
    {
      "cell_type": "markdown",
      "metadata": {
        "id": "oGqkfZOh40x7"
      },
      "source": [
        "1.- Hacer unprograma que impemente el algoritmo de pila vacía para verificar balanceo de llaves ( '{' y '}') y balanceo de parénteisis ( '(' y ')') para codigo de programacion C y, C++ y Java\n",
        "\n",
        "2.- Tiene que detener el análisis cuando se detcte que los parecentesis o llaves estan desbalanceados\n",
        "\n",
        "3.-Idealmente (No obligatorio) encapsular esta lógica en una clase (ADT) de la POO"
      ]
    },
    {
      "cell_type": "code",
      "metadata": {
        "id": "fUFbM4GtF8mo"
      },
      "source": [
        "class balanceo_llaves:\n",
        "    def __init__ ( self , ruta_archivo ):\n",
        "        self.read_data( ruta_archivo )\n",
        "    \n",
        "    def read_data( self , entrada ):\n",
        "        self.entrada = open( nombre , 'rt')\n",
        "        self.codigo = self.entrada.read()\n",
        "\n",
        "    def revisar_codigo( self ):\n",
        "        \n",
        "        self.pilaControl = StackADT()\n",
        "        self.pilaControl.push(\"#\") #caracter de pila vacia\n",
        "\n",
        "        for letra in self.codigo:\n",
        "            #print(f\"---> { letra } <---\")\n",
        "            if self.pilaControl.get_length() != 0:\n",
        "\n",
        "                if letra == '{': #regla 1\n",
        "                    self.pilaControl.push('{')\n",
        "                elif letra == '(': #Regla 1 (Con Parentesis)\n",
        "                    self.pilaControl.push('(')\n",
        "                elif letra == '}': #regla 2\n",
        "                    self.pilaControl.pop()\n",
        "                elif letra == ')': #regla 2 (Con Parentesis)\n",
        "                    self.pilaControl.pop()\n",
        "                else:\n",
        "                    pass\n",
        "\n",
        "            else:\n",
        "                break\n",
        "            # Nota: Este codigo aun no contempla desvalanceo\n",
        "        if self.pilaControl.peek() == '#':\n",
        "            print(\"\\nEl codio proporcionado está correctamente balanceado.\\n\")\n",
        "        else:\n",
        "            print(\"\\nEl codigo no esta balanceado en llaves o parentesis\\n\")\n",
        "   "
      ],
      "execution_count": 157,
      "outputs": []
    },
    {
      "cell_type": "code",
      "metadata": {
        "colab": {
          "base_uri": "https://localhost:8080/"
        },
        "id": "QQRxqEWXHmLT",
        "outputId": "a4ddb405-0a6d-4fa9-a04f-caa249a6dcf6"
      },
      "source": [
        "nombre = input(\"Introduce el nombre del archivo para usar el programa:      \")\n",
        "ejemplo = balanceo_llaves( nombre )\n",
        "ejemplo.revisar_codigo()"
      ],
      "execution_count": 158,
      "outputs": [
        {
          "output_type": "stream",
          "name": "stdout",
          "text": [
            "Introduce el nombre del archivo para usar el programa:      prog.txt\n",
            "\n",
            "El codio proporcionado está correctamente balanceado.\n",
            "\n"
          ]
        }
      ]
    },
    {
      "cell_type": "markdown",
      "metadata": {
        "id": "SGoYB0TC7JWx"
      },
      "source": [
        "#Aplicacion de Pilas.\n",
        "##Estrategias de diseño de algoritmos BACKTRACKING"
      ]
    }
  ]
}